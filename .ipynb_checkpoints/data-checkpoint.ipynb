{
 "cells": [
  {
   "cell_type": "code",
   "execution_count": 1,
   "metadata": {},
   "outputs": [],
   "source": [
    "import pandas as pd\n",
    "import yfinance as yf\n",
    "from datetime import datetime, timedelta\n",
    "from pandas_datareader.data import DataReader"
   ]
  },
  {
   "cell_type": "code",
   "execution_count": 2,
   "metadata": {},
   "outputs": [],
   "source": [
    "# Stock_Market_Selloff - 2015,8,18 - 2015,11,3\n",
    "# Bitcoin_Crash - 2018,9,21 - 2019,4,23\n",
    "# Covid_19  - 2020,2,20 - 2020,8,18\n",
    "# Russian_Invasion_of_Ukraine - 2022,2,10 - 2022,3,29\n",
    "\n",
    "start_date = datetime(2015,8,18).date()\n",
    "end_date = datetime(2022,3,29).date()\n",
    "\n",
    "# The sectors we'll use for this analysis\n",
    "sector_list = ['^SP500-40','^SP500-25','^SP500-30',\"^SP500-35\",\"^SP500-20\",\"^SP500-45\",\"^SP500-15\",\"^SP500-60\",\"^SP500-50\",\"^SP500-55\",\"^GSPE\"]\n"
   ]
  },
  {
   "cell_type": "code",
   "execution_count": 3,
   "metadata": {},
   "outputs": [],
   "source": [
    "# get return for each sectors, create a new DataFrame\n",
    "closing_df = DataReader(sector_list, 'yahoo', start_date, end_date)['Adj Close']\n",
    "sector_return = closing_df.pct_change()\n",
    "\n",
    "# Rename column name\n",
    "sector_return.rename(columns={'^SP500-40':\"Financials\",'^SP500-25':\"Consumer Discretionary\",\n",
    "                            '^SP500-30':\"Consumer Staples\",\"^SP500-35\":\"Health\",\"^SP500-20\":\"Industrials\",\n",
    "                            \"^SP500-45\":\"Information Tech\",\"^SP500-15\":\"Materials\",\"^SP500-60\":\"Real Estate\",\n",
    "                            \"^SP500-50\":\"Tele Services\",\"^SP500-55\":\"Utilities\",\"^GSPE\":\"Energy\"}, inplace=True)\n",
    "sector_return = sector_return.iloc[1: , :]"
   ]
  },
  {
   "cell_type": "code",
   "execution_count": 4,
   "metadata": {},
   "outputs": [],
   "source": [
    "#convert data to html file\n",
    "sector_return.to_html('html/data.html')"
   ]
  }
 ],
 "metadata": {
  "kernelspec": {
   "display_name": "Python 3",
   "language": "python",
   "name": "python3"
  },
  "language_info": {
   "codemirror_mode": {
    "name": "ipython",
    "version": 3
   },
   "file_extension": ".py",
   "mimetype": "text/x-python",
   "name": "python",
   "nbconvert_exporter": "python",
   "pygments_lexer": "ipython3",
   "version": "3.6.10"
  }
 },
 "nbformat": 4,
 "nbformat_minor": 2
}
